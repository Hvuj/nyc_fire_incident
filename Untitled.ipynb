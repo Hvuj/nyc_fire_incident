{
 "cells": [
  {
   "cell_type": "code",
   "execution_count": 9,
   "id": "cd25743c-6d55-474f-a638-05f874381bda",
   "metadata": {
    "tags": []
   },
   "outputs": [
    {
     "name": "stdout",
     "output_type": "stream",
     "text": [
      "Requirement already satisfied: pandas in f:\\work\\venv\\lib\\site-packages (1.5.3)\n",
      "Requirement already satisfied: python-dateutil>=2.8.1 in f:\\work\\venv\\lib\\site-packages (from pandas) (2.8.2)\n",
      "Requirement already satisfied: pytz>=2020.1 in f:\\work\\venv\\lib\\site-packages (from pandas) (2022.7.1)\n",
      "Requirement already satisfied: numpy>=1.21.0 in f:\\work\\venv\\lib\\site-packages (from pandas) (1.24.2)\n",
      "Requirement already satisfied: six>=1.5 in f:\\work\\venv\\lib\\site-packages (from python-dateutil>=2.8.1->pandas) (1.16.0)\n"
     ]
    }
   ],
   "source": [
    "!pip install --upgrade pandas"
   ]
  },
  {
   "cell_type": "code",
   "execution_count": 40,
   "id": "77135ee4-c646-41d1-9e29-8c72c4761b11",
   "metadata": {
    "tags": []
   },
   "outputs": [
    {
     "name": "stdout",
     "output_type": "stream",
     "text": [
      "Index(['col1', 'col3'], dtype='object')\n"
     ]
    }
   ],
   "source": [
    "import pandas as pd\n",
    "\n",
    "# create a sample dataframe\n",
    "df = pd.DataFrame({'col1': [1, 2, 3], 'col2': ['a', 'b', 'c'], 'col3': [1.0, 2.0, 3.0]})\n",
    "\n",
    "# select only integer or float columns\n",
    "df_select = df.select_dtypes(include=['int', 'float'])\n",
    "\n",
    "# print the selected columns\n",
    "print(df_select.columns)"
   ]
  },
  {
   "cell_type": "code",
   "execution_count": null,
   "id": "df0b861a-d99c-41de-ad51-8a2d53872ef3",
   "metadata": {},
   "outputs": [],
   "source": [
    "2023  {'date': '2022-01-01', 'data': {'starfire_incident_id': '1',\"alarm_box_borough\":\"Brooklyn\"}}"
   ]
  }
 ],
 "metadata": {
  "kernelspec": {
   "display_name": "Python 3 (ipykernel)",
   "language": "python",
   "name": "python3"
  },
  "language_info": {
   "codemirror_mode": {
    "name": "ipython",
    "version": 3
   },
   "file_extension": ".py",
   "mimetype": "text/x-python",
   "name": "python",
   "nbconvert_exporter": "python",
   "pygments_lexer": "ipython3",
   "version": "3.11.1"
  }
 },
 "nbformat": 4,
 "nbformat_minor": 5
}
